{
 "cells": [
  {
   "cell_type": "markdown",
   "id": "9b8e332d-eba1-4161-b2da-8173a52b141e",
   "metadata": {},
   "source": [
    "## Exercise 1: Create a Jupyter Notebook\n",
    "\n",
    "Create a new Jupyter notebook called DataScienceEcosystem.ipynb\n",
    "\n",
    "Note: The next item in the course will launch JupyterLite with an empty notebook with this name that you can use to complete rest of the Exercises. You can also use any other Jupyter notebook environment (e.g. Anaconda) that you prefer to complete the assignment."
   ]
  },
  {
   "cell_type": "markdown",
   "id": "eaf3c7c5-5586-4626-bc33-6cb800f9421e",
   "metadata": {},
   "source": [
    "## Exercise 2: Create markdown cell with title of the notebook\n",
    "\n",
    "Create a markdown cell with the title Data Science Tools and Ecosystem using H1 style heading.\n",
    "Take a screenshot of the markdown cell and name it as <code>2-title.png</code> (Images can be saved with either the .jpg or .png extension.)"
   ]
  },
  {
   "cell_type": "markdown",
   "id": "5b1a34f6-126d-43c0-b595-2d0d71bf2742",
   "metadata": {},
   "source": [
    "# Data Science Tools and Ecosystem"
   ]
  },
  {
   "cell_type": "markdown",
   "id": "277ab996-72ff-40c5-9b57-7d1268b35251",
   "metadata": {},
   "source": [
    "## Exercise 3 - Create a markdown cell for an introduction\n",
    "\n",
    "Write an introductory sentence about the notebook such as the follows:\n",
    "Take a screenshot of the markdown cell and name it as <code>3-intro.png</code> (Images can be saved with either the .jpg or .png extension.)"
   ]
  },
  {
   "cell_type": "markdown",
   "id": "aa3a0af4-8648-4182-8eb0-b953548e6890",
   "metadata": {},
   "source": [
    "In this notebook, Data Science Tools and Ecosystem are summarized."
   ]
  },
  {
   "cell_type": "markdown",
   "id": "1d0725ed-b9d7-468b-966e-9558aebdb9b3",
   "metadata": {},
   "source": [
    "## Exercise 10 - Insert a markdown cell to list Objectives\n",
    "\n",
    "Below the introduction cell created in Exercise 3, insert a new markdown cell to list the objectives that this notebook covered (i.e. some of the key takeaways from the course). In this new cell start with an introductory line titled: Objectives: in bold font. Then using an unordered list (bullets) indicate 3 to 5 items covered in this notebook, such as List popular languages for Data Science.\n",
    "Take a screenshot of the markdown cell and name it as <code>10-objectives.png</code> (Images can be saved with either the .jpg or .png extension.)"
   ]
  },
  {
   "cell_type": "markdown",
   "id": "e5fd383d-78e1-4d04-9c88-f2e295160b8a",
   "metadata": {},
   "source": [
    "**Objectives:**\n",
    "- List popular deployment envoriment for Data Science\n",
    "- List popular code asset management tools for Data Science\n",
    "- List popular data management softwares for Data Science\n",
    "- List popular visualization softwares for Data Sciece\n",
    "- List popular softwares for ETL"
   ]
  },
  {
   "cell_type": "markdown",
   "id": "b2cd2cb0-82cc-4c77-82c5-45ca5d54abb0",
   "metadata": {},
   "source": [
    "## Exercise 4 - Create a markdown cell to list data science languages\n",
    "\n",
    "Start the cell with an overview line such as:\n",
    "Take a screenshot of the markdown cell and name it as <code>4-dslanguages.png</code> (Images can be saved with either the .jpg or .png extension.)"
   ]
  },
  {
   "cell_type": "markdown",
   "id": "312d68b7-acbf-4ae8-883b-67ff15b15efd",
   "metadata": {},
   "source": [
    "Some of the popular languages that Data Scientists use are:\n",
    "1. Python\n",
    "2. R\n",
    "3. SQL"
   ]
  },
  {
   "cell_type": "markdown",
   "id": "2ae4e8d8-b997-4913-b3ae-00b86d40e4e3",
   "metadata": {},
   "source": [
    "## Exercise 5 - Create a markdown cell to list data science libraries\n",
    "\n",
    "Add an overview line to the cell like:\n",
    "Take a screenshot of the markdown cell and name it as <code>5-dslibraries.png</code> (Images can be saved with either the .jpg or .png extension.)"
   ]
  },
  {
   "cell_type": "markdown",
   "id": "d849cbcd-45d5-4d99-b83e-12683a4488c1",
   "metadata": {},
   "source": [
    "Some of the commonly used libraries used by Data Scientists include:\n",
    "1. Pandas\n",
    "2. Numpy\n",
    "3. Matplotlib"
   ]
  },
  {
   "cell_type": "markdown",
   "id": "eade16fe-e378-4134-aa07-e741b2d48a7c",
   "metadata": {},
   "source": [
    "## Exercise 6 - Create a markdown cell with a table of Data Science tools\n",
    "\n",
    "Create a single column table in this cell with the first row containing the header Data Science Tools. The subsequent three rows in the table should indicate three development environment open source tools used in data science.\n",
    "Take a screenshot of the markdown cell and name it as <code>6-dstools.png</code> (Images can be saved with either the .jpg or .png extension.)"
   ]
  },
  {
   "cell_type": "markdown",
   "id": "4a62afb1-fb93-4812-bc6c-fb591eceda84",
   "metadata": {},
   "source": [
    "|Data Science Tools|\n",
    "|----|\n",
    "|Jupyter|\n",
    "|RStudio|\n",
    "|Spyder|"
   ]
  },
  {
   "cell_type": "markdown",
   "id": "842ed53b-e77e-4251-8426-e9e7b3065564",
   "metadata": {},
   "source": [
    "## Exercise 7 - Create a markdown cell introducing arithmetic expression examples\n",
    "\n",
    "Add a line in this cell with H3 style heading with text like:\n",
    "Take a screenshot of the markdown cell and name it as <code>7-introarithmetic.png</code> (Images can be saved with either the .jpg or .png extension.)\n",
    "\n"
   ]
  },
  {
   "cell_type": "markdown",
   "id": "c3bd7b2e-738c-410d-9cc5-4fb8524a67fc",
   "metadata": {},
   "source": [
    "### Below are a few examples of evaluating arithmetic expressions in Python"
   ]
  },
  {
   "cell_type": "markdown",
   "id": "c58a805f-ad06-41ae-a25a-8a3d941e3e12",
   "metadata": {},
   "source": [
    "## Exercise 8 - Create a code cell to multiply and add numbers\n",
    "\n",
    "In this code cell evaluate the expression (3*4)+5.\n",
    "Insert a comment line before the expression to explain the operation e.g.  This a simple arithmetic expression to mutiply then add integers.\n",
    "Then execute the cell to ensure the expression returns the expected output of 17.\n",
    "Take a screenshot of the code cell with output and name it as <code>8-multiplyandaddintegers.png</code> (Images can be saved with either the .jpg or .png extension.)"
   ]
  },
  {
   "cell_type": "code",
   "execution_count": 7,
   "id": "25a4f654-95aa-4e5b-95ed-4e8c53712697",
   "metadata": {},
   "outputs": [
    {
     "data": {
      "text/plain": [
       "17"
      ]
     },
     "execution_count": 7,
     "metadata": {},
     "output_type": "execute_result"
    }
   ],
   "source": [
    "# This a simple arithmetic expression to mutiply then add integers\n",
    "(3*4)+5"
   ]
  },
  {
   "cell_type": "markdown",
   "id": "034588ce-a64f-4d2c-b59e-d54dddea6b1a",
   "metadata": {},
   "source": [
    "## Exercise 9 - Create a code cell to convert minutes to hours\n",
    "\n",
    "In this code cell write an expression that converts 200 minutes into hours.\n",
    "Insert a comment line before the expression to explain the operation e.g.  This will convert 200 minutes to hours by diving by 60.\n",
    "Take a screenshot of the code cell with output and name it <code>as 9-hourstominutes.png</code> (Images can be saved with either the .jpg or .png extension.)"
   ]
  },
  {
   "cell_type": "code",
   "execution_count": 13,
   "id": "f563ca18-0136-40e7-a43f-4d482961c88a",
   "metadata": {},
   "outputs": [
    {
     "data": {
      "text/plain": [
       "3.3333333333333335"
      ]
     },
     "execution_count": 13,
     "metadata": {},
     "output_type": "execute_result"
    }
   ],
   "source": [
    "# This will convert 200 minutes to hours by diving by 60\n",
    "200/60"
   ]
  },
  {
   "cell_type": "markdown",
   "id": "b6e7aba0-eadc-4df5-894e-0373f137c097",
   "metadata": {},
   "source": [
    "## Exercise 11 - Create a markdown cell to indicate the Author's name\n",
    "\n",
    "In this markdown cell markdown cell include the following text Author in H2 style heading. Include your name as regular text below the word Author.\n",
    "Take a screenshot of the markdown cell and name it as <code>11-authordetails.png</code> (Images can be saved with either the .jpg or .png extension.)\n",
    "Note: Save and download the notebook.\n"
   ]
  },
  {
   "cell_type": "markdown",
   "id": "b549841b-f5f2-40d4-b096-3560f1e0f4fc",
   "metadata": {},
   "source": [
    "## Author:\n",
    "MU, JIANCHAO"
   ]
  },
  {
   "cell_type": "markdown",
   "id": "8e06442f-5384-4221-99cd-8979aec5b8e5",
   "metadata": {},
   "source": [
    "## Exercise 12 - Share your notebook through GitHub\n",
    "\n",
    "Upload your notebook to a public respository on GitHub.\n",
    "\n",
    "Note : Please keep the GitHub repo link of the notebook handy.\n",
    "You will need to submit this link as a part of the assignment evaluation.\n",
    "\n",
    "Hint: Refer to Lab: Working with files in Jupyter Notebooks to download the notebook from SN Labs."
   ]
  },
  {
   "cell_type": "markdown",
   "id": "f4427ccd-73f7-43f4-a125-991185d738ab",
   "metadata": {},
   "source": [
    "[link](https://github.com/muvpn/Tools-for-Data-Science-M6-Final-Assignment.git)"
   ]
  },
  {
   "cell_type": "markdown",
   "id": "b2b5feae-a003-4257-a930-1dbf5ade94ad",
   "metadata": {},
   "source": [
    "## Exercise 13 -Take a screenshot of the first page of the notebook and save it as <code>1-notebook.png</code>(Images can be saved with either the .jpg or .png extension.)\n",
    "\n",
    "Refer to Hands-on Lab: Getting Started with GitHub to upload the downloaded notebook to GitHub.\n",
    "\n",
    "Congratulations on completing this project. In a subsequent item in the course you will submit a link to your notebook on GitHub and evaluate your peers."
   ]
  },
  {
   "cell_type": "markdown",
   "id": "226a9eaa-30b6-4fd7-8d03-d755dc48bc01",
   "metadata": {},
   "source": [
    "[link](https://github.com/muvpn/Tools-for-Data-Science-M6-Final-Assignment.git)"
   ]
  }
 ],
 "metadata": {
  "kernelspec": {
   "display_name": "Python 3 (ipykernel)",
   "language": "python",
   "name": "python3"
  },
  "language_info": {
   "codemirror_mode": {
    "name": "ipython",
    "version": 3
   },
   "file_extension": ".py",
   "mimetype": "text/x-python",
   "name": "python",
   "nbconvert_exporter": "python",
   "pygments_lexer": "ipython3",
   "version": "3.12.2"
  }
 },
 "nbformat": 4,
 "nbformat_minor": 5
}
